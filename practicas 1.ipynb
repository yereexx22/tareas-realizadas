{
 "cells": [
  {
   "cell_type": "markdown",
   "id": "85cbea2e-f6e4-4883-99eb-c3c5aa26e035",
   "metadata": {},
   "source": [
    "<h1> codigos basicos de python"
   ]
  },
  {
   "cell_type": "code",
   "execution_count": null,
   "id": "1b5dc3bc-b171-4c31-8b06-50b2a75dcfe8",
   "metadata": {},
   "outputs": [],
   "source": [
    "# introducir un nombre\n",
    "nombre = input(\"¿Cómo te llamas? \")\n",
    "print(\"Hola,\", nombre)"
   ]
  },
  {
   "cell_type": "code",
   "execution_count": 6,
   "id": "27f2ebf6-f2b8-4835-b2b0-3b3daf62f51e",
   "metadata": {},
   "outputs": [
    {
     "name": "stdout",
     "output_type": "stream",
     "text": [
      "Suma: 15\n",
      "Resta: 5\n",
      "Multiplicación: 50\n",
      "División: 2.0\n",
      "Potencia: 100000\n"
     ]
    }
   ],
   "source": [
    "#calculadora basica\n",
    "a = 10\n",
    "b = 5\n",
    "\n",
    "print(\"Suma:\", a + b)\n",
    "print(\"Resta:\", a - b)\n",
    "print(\"Multiplicación:\", a * b)\n",
    "print(\"División:\", a / b)\n",
    "print(\"Potencia:\", a ** b)"
   ]
  },
  {
   "cell_type": "code",
   "execution_count": 7,
   "id": "7847721d-3e14-4918-937a-f55644da84f3",
   "metadata": {},
   "outputs": [
    {
     "name": "stdout",
     "output_type": "stream",
     "text": [
      "manzana\n",
      "banana\n",
      "cereza\n"
     ]
    }
   ],
   "source": [
    "# operaciones con diccionario-\n",
    "frutas = [\"manzana\", \"banana\", \"cereza\"]\n",
    "for fruta in frutas:\n",
    "    print(fruta)"
   ]
  }
 ],
 "metadata": {
  "kernelspec": {
   "display_name": "Python 3 (ipykernel)",
   "language": "python",
   "name": "python3"
  },
  "language_info": {
   "codemirror_mode": {
    "name": "ipython",
    "version": 3
   },
   "file_extension": ".py",
   "mimetype": "text/x-python",
   "name": "python",
   "nbconvert_exporter": "python",
   "pygments_lexer": "ipython3",
   "version": "3.13.5"
  }
 },
 "nbformat": 4,
 "nbformat_minor": 5
}
