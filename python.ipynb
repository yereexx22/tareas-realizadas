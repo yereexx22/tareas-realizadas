{
 "cells": [
  {
   "cell_type": "code",
   "execution_count": null,
   "id": "79037fc5-5e34-48ed-8307-c7219df66284",
   "metadata": {},
   "outputs": [],
   "source": [
    "# def =  una funcion \n",
    "# if = es un condicional \n",
    "#elif = es un condicionl\n",
    "# else = es una condicional\n",
    "# in = operador de python comprobar un valor \n",
    "# max = funcion para verificar el mayor\n",
    "# min = verificar el menor\n",
    "#class = planilla para crear objetos\n",
    "# int = es un valor entero \n",
    "# str = es una cadena de caracteres\n",
    "#float = es un valor con decimales\n",
    "#double = es un valor con decimales mas extenso\n",
    "# return = un retorno \n",
    "#while = un bucle\n",
    "#for = es un bucle \n"
   ]
  }
 ],
 "metadata": {
  "kernelspec": {
   "display_name": "Python 3 (ipykernel)",
   "language": "python",
   "name": "python3"
  },
  "language_info": {
   "codemirror_mode": {
    "name": "ipython",
    "version": 3
   },
   "file_extension": ".py",
   "mimetype": "text/x-python",
   "name": "python",
   "nbconvert_exporter": "python",
   "pygments_lexer": "ipython3",
   "version": "3.13.5"
  }
 },
 "nbformat": 4,
 "nbformat_minor": 5
}
